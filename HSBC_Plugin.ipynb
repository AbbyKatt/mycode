{
 "cells": [
  {
   "cell_type": "code",
   "execution_count": 1,
   "metadata": {},
   "outputs": [],
   "source": [
    "#Config\n",
    "ProjectID=\"datawx\"\n",
    "queryFile=\"c:\\\\temp\\\\query.txt\"\n",
    "targetDataset=\"DATASCIENCE_SOURCEDATA\"\n",
    "serviceAcct=\"C:\\\\code\\\\datawx\\\\abbykatdev.json\"\n",
    "FileType=\"CoronaTest\""
   ]
  },
  {
   "cell_type": "code",
   "execution_count": 4,
   "metadata": {},
   "outputs": [],
   "source": [
    "#DataScience DataSource / data helper classes\n",
    "#(see GCPMLOps.py as this is copied and pasted in here!)\n",
    "\n",
    "import pandas as pd\n",
    "import numpy as np\n",
    "import uuid\n",
    "\n",
    "class SimpleTimer():\n",
    "    def __init__(self, name):\n",
    "        self.name = name\n",
    "        self.start = pd.Timestamp.now()\n",
    "        print(\"Starting \" + self.name + \" at \" + str(self.start))\n",
    "\n",
    "    def Stop(self):\n",
    "        self.end = pd.Timestamp.now()\n",
    "        print(\"Stopping \" + self.name + \" at \" + str(self.end))\n",
    "        print(\"Elapsed time for \" + self.name + \" is \" + str(self.end - self.start))\n",
    "    \n",
    "    def GetElalpsed(self):\n",
    "        return self.end - self.start\n",
    "\n",
    "class DataSource():\n",
    "\n",
    "    def __init__(self,ProjectID,filetype,sourceEnvironment,ExtractQuery):\n",
    "        self.guid = str(uuid.uuid4())\n",
    "        self.filetype = filetype\n",
    "        self.ProjectID = ProjectID\n",
    "        self.sourceEnvironment = sourceEnvironment\n",
    "        self.ExtractQuery = ExtractQuery\n",
    "        self.loadedDate = pd.Timestamp.now()\n",
    "        self.TargetTable =filetype + \"_\" + self.loadedDate.strftime(\"%Y_%m_%d\") + \"_\" + self.guid\n",
    "        \n",
    "    def WriteEntry(self):\n",
    "        print(\"Writing Entry\")\n",
    "        self.WriteToBQ()\n",
    "\n",
    "    def WriteToBQ(self):        \n",
    "        frame=[{\"Filetype\":self.filetype,\n",
    "            \"LoadedDate\":self.loadedDate,\n",
    "            \"SourceEnvironment\":self.sourceEnvironment,\n",
    "            \"ExtractQuery\":self.ExtractQuery,\n",
    "            \"TargetTable\":self.TargetTable,\n",
    "            \"GUID\":self.guid}]\n",
    "        #print(frame)\n",
    "        df = pd.DataFrame(frame)\n",
    "        df.to_gbq(\"DATASCIENCE_SOURCEDATA._datasources\", project_id=self.ProjectID, if_exists='append')\n",
    "\n",
    "    @staticmethod    \n",
    "    def GetLatest(ProjectID,fileType):\n",
    "        query=\"\"\"SELECT * FROM `datawx.DATASCIENCE_SOURCEDATA._datasources`\n",
    "            where Filetype=\"{0}\"\n",
    "            order by LoadedDate desc\n",
    "            limit 1\"\"\".format(fileType)\n",
    "\n",
    "        #Get first row\n",
    "        df = pd.read_gbq(query, project_id=ProjectID)\n",
    "        row = df.iloc[0]\n",
    "        source=DataSource(ProjectID,row[\"Filetype\"],row[\"SourceEnvironment\"],row[\"ExtractQuery\"])\n",
    "        source.loadedDate=row[\"LoadedDate\"]\n",
    "        source.TargetTable=row[\"TargetTable\"]\n",
    "        return source\n",
    "\n",
    "# class TrainingMetrics():\n",
    "\n",
    "#     @staticmethod\n",
    "#     def SaveMetrics(self,ExperimentName,ModelName,ModelVersion,ModelType,trainingTime:SimpleTimer):\n"
   ]
  },
  {
   "cell_type": "code",
   "execution_count": 48,
   "metadata": {},
   "outputs": [
    {
     "name": "stdout",
     "output_type": "stream",
     "text": [
      "\n",
      "              precision    recall  f1-score   support\n",
      "\n",
      "      setosa       1.00      1.00      1.00        15\n",
      "  versicolor       0.87      0.76      0.81        17\n",
      "   virginica       0.80      0.89      0.84        18\n",
      "\n",
      "    accuracy                           0.88        50\n",
      "   macro avg       0.89      0.88      0.88        50\n",
      "weighted avg       0.88      0.88      0.88        50\n",
      "\n"
     ]
    }
   ],
   "source": [
    "#Simple SKLearn example with a Decision Tree\n",
    "#Demonstrates the training of a very simple ML model and how the helper classes can be used to store the results\n",
    "#Config:\n",
    "MaxEpochs=10\n",
    "\n",
    "import warnings\n",
    "warnings.filterwarnings(\"ignore\")\n",
    "\n",
    "# load libraries\n",
    "from sklearn import datasets\n",
    "from sklearn.tree import DecisionTreeClassifier\n",
    "from sklearn.model_selection import train_test_split\n",
    "from sklearn.metrics import classification_report, confusion_matrix,accuracy_score\n",
    "\n",
    "# Load data\n",
    "iris = datasets.load_iris()\n",
    "X = iris.data\n",
    "y = iris.target\n",
    "\n",
    "# Create list of target class names\n",
    "class_names = iris.target_names\n",
    "\n",
    "# Create training and test set\n",
    "X_train, X_test, y_train, y_test = train_test_split(X, y, test_size=0.33)\n",
    "\n",
    "# Create DecisionTree model\n",
    "max_depth_list = range(1,MaxEpochs+1)\n",
    "\n",
    "train_errors = [] # Log training errors for each model\n",
    "test_errors = [] # Log testing errors for each model\n",
    "\n",
    "#accuracy_score = None #[] #lambda y, y_hat: np.mean(y == y_hat) # Define accuracy score\n",
    "for x in max_depth_list:\n",
    "    dtc = DecisionTreeClassifier(max_depth=x) \n",
    "    dtc.fit(X_train,y_train)\n",
    "    train_z = dtc.predict(X_train)\n",
    "    test_z = dtc.predict(X_test)\n",
    "\n",
    "    train_errors.append(accuracy_score(y_train, train_z))\n",
    "    test_errors.append(accuracy_score(y_test, test_z))\n",
    "\n",
    "\n",
    "\n",
    "#Create a classification report\n",
    "print()\n",
    "print(classification_report(y_test, test_z, target_names=class_names))\n",
    "\n",
    "#Create a confusion matrix\n",
    "print()\n",
    "print(confusion_matrix(y_test, test_z))\n"
   ]
  },
  {
   "cell_type": "code",
   "execution_count": 39,
   "metadata": {},
   "outputs": [
    {
     "data": {
      "text/plain": [
       "[Text(0, 0.5, 'setosa'), Text(0, 1.5, 'versicolor'), Text(0, 2.5, 'virginica')]"
      ]
     },
     "execution_count": 39,
     "metadata": {},
     "output_type": "execute_result"
    },
    {
     "data": {
      "image/png": "[encoded data removed]",
      "text/plain": [
       "<Figure size 432x288 with 2 Axes>"
      ]
     },
     "metadata": {
      "needs_background": "light"
     },
     "output_type": "display_data"
    }
   ],
   "source": [
    "#Plot confusion matrix\n",
    "import matplotlib.pyplot as plt\n",
    "import seaborn as sns\n",
    "from sklearn.metrics import confusion_matrix\n",
    "\n",
    "cm = confusion_matrix(y_test, y_hat)\n",
    "ax= plt.subplot()\n",
    "sns.heatmap(cm, annot=True, ax = ax,fmt='g'); #annot=True to annotate cells\n",
    "\n",
    "# labels, title and ticks\n",
    "ax.set_xlabel('Predicted labels');ax.set_ylabel('True labels')\n",
    "ax.set_title('Confusion Matrix');\n",
    "ax.xaxis.set_ticklabels(class_names); ax.yaxis.set_ticklabels(class_names)\n",
    "\n"
   ]
  },
  {
   "cell_type": "code",
   "execution_count": 34,
   "metadata": {},
   "outputs": [
    {
     "data": {
      "image/png": "[encoded data removed]",
      "text/plain": [
       "<Figure size 432x288 with 1 Axes>"
      ]
     },
     "metadata": {
      "needs_background": "light"
     },
     "output_type": "display_data"
    }
   ],
   "source": [
    "\n",
    "x = np.arange(len(max_depth_list)) + 1 # Create domain for plot\n",
    "plt.plot(x, train_errors, label='Training Accuracy') # Plot training error over domain\n",
    "plt.plot(x, test_errors, label='Testing Accuracy') # Plot testing error over domain\n",
    "plt.xlabel('Epochs') # Label x-axis\n",
    "plt.ylabel('Accuracy') # Label y-axis\n",
    "plt.legend() # Show plot labels as legend\n",
    "plt.show() # Show graph"
   ]
  }
 ],
 "metadata": {
  "kernelspec": {
   "display_name": "pyTorchCUDA",
   "language": "python",
   "name": "python3"
  },
  "language_info": {
   "codemirror_mode": {
    "name": "ipython",
    "version": 3
   },
   "file_extension": ".py",
   "mimetype": "text/x-python",
   "name": "python",
   "nbconvert_exporter": "python",
   "pygments_lexer": "ipython3",
   "version": "3.9.12"
  },
  "orig_nbformat": 4,
  "vscode": {
   "interpreter": {
    "hash": "4def5b9f567fabe9708771a899b5a4539479a947b9e0e619f0a1f00b6e0832e2"
   }
  }
 },
 "nbformat": 4,
 "nbformat_minor": 2
}
