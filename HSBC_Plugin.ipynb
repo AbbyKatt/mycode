{
 "cells": [
  {
   "cell_type": "code",
   "execution_count": 32,
   "metadata": {},
   "outputs": [],
   "source": [
    "#Config\n",
    "ProjectID=\"datawx\"\n",
    "queryFile=\"c:\\\\temp\\\\query.txt\"\n",
    "targetDataset=\"DATASCIENCE_SOURCEDATA\"\n",
    "serviceAcct=\"C:\\\\code\\\\datawx\\\\abbykatdev.json\"\n",
    "FileType=\"CoronaTest\""
   ]
  },
  {
   "cell_type": "code",
   "execution_count": 39,
   "metadata": {},
   "outputs": [],
   "source": [
    "#DataScience DataSource\n",
    "import pandas as pd\n",
    "import numpy as np\n",
    "import uuid\n",
    "\n",
    "class SimpleTimer():\n",
    "    def __init__(self, name):\n",
    "        self.name = name\n",
    "        self.start = pd.Timestamp.now()\n",
    "        print(\"Starting \" + self.name + \" at \" + str(self.start))\n",
    "\n",
    "    def Stop(self):\n",
    "        self.end = pd.Timestamp.now()\n",
    "        print(\"Stopping \" + self.name + \" at \" + str(self.end))\n",
    "        print(\"Elapsed time for \" + self.name + \" is \" + str(self.end - self.start))\n",
    "    \n",
    "    def GetElalpsed(self):\n",
    "        return self.end - self.start\n",
    "\n",
    "class DataSource():\n",
    "\n",
    "    def __init__(self,filetype,sourceEnvironment,ExtractQuery):\n",
    "        self.guid = str(uuid.uuid4())\n",
    "        self.filetype = filetype\n",
    "        self.sourceEnvironment = sourceEnvironment\n",
    "        self.ExtractQuery = ExtractQuery\n",
    "        self.loadedDate = pd.Timestamp.now()\n",
    "        self.TargetTable =filetype + \"_\" + self.loadedDate.strftime(\"%Y_%m_%d\") + \"_\" + self.guid\n",
    "        self.WriteToBQ()\n",
    "\n",
    "    def WriteToBQ(self):\n",
    "        frame=[{\"Filetype\":self.filetype,\n",
    "            \"LoadedDate\":self.loadedDate,\n",
    "            \"SourceEnvironment\":self.sourceEnvironment,\n",
    "            \"ExtractQuery\":self.ExtractQuery,\n",
    "            \"TargetTable\":self.TargetTable,\n",
    "            \"GUID\":self.guid}]\n",
    "        print(frame)\n",
    "        df = pd.DataFrame(frame)\n",
    "        df.to_gbq(\"DATASCIENCE_SOURCEDATA._datasources\", project_id=ProjectID, if_exists='append')\n",
    "\n",
    "    @staticmethod    \n",
    "    def GetLatest(fileType):\n",
    "        query=\"\"\"SELECT * FROM `datawx.DATASCIENCE_SOURCEDATA._datasources`\n",
    "            where Filetype=\"{0}\"\n",
    "            order by LoadedDate desc\n",
    "            limit 1\"\"\".format(fileType)\n",
    "\n",
    "        #Get first row\n",
    "        df = pd.read_gbq(query, project_id=ProjectID)\n",
    "        row = df.iloc[0]\n",
    "        source=DSDataSource(row[\"Filetype\"],row[\"SourceEnvironment\"],row[\"ExtractQuery\"])\n",
    "        source.loadedDate=row[\"LoadedDate\"]\n",
    "        source.TargetTable=row[\"TargetTable\"]\n",
    "        return source\n",
    "\n",
    "class TrainingMetrics():\n",
    "\n",
    "    @staticmethod\n",
    "    def SaveMetrics(self,ExperimentName,ModelName,ModelVersion,ModelType,trainingTime:SimpleTimer):\n"
   ]
  },
  {
   "cell_type": "code",
   "execution_count": 1,
   "metadata": {},
   "outputs": [
    {
     "name": "stderr",
     "output_type": "stream",
     "text": [
      "\n",
      "KeyboardInterrupt\n",
      "\n"
     ]
    }
   ],
   "source": [
    "#Semi-Automated Data Conveyor\n",
    "import pandas as pd\n",
    "import numpy as np\n",
    "\n",
    "#import bigquery\n",
    "from google.cloud import bigquery\n",
    "from google.oauth2 import service_account\n",
    "\n",
    "#Load SQL from file\n",
    "with open(queryFile, 'r') as myfile:\n",
    "    query=myfile.read()\n",
    "\n",
    "#Create Data Source Entry\n",
    "source=DSDataSource(FileType,\"DEV\",query)\n",
    "\n",
    "#Set up query to transfer data from source to target\n",
    "credentials = service_account.Credentials.from_service_account_file(serviceAcct)\n",
    "job_config = bigquery.QueryJobConfig()\n",
    "job_config.destination = ProjectID + \".\" + targetDataset + \".\" + source.TargetTable\n",
    "job_config.write_disposition = bigquery.WriteDisposition.WRITE_TRUNCATE\n",
    "job_config.use_legacy_sql = False\n",
    "\n",
    "#Run Query\n",
    "client = bigquery.Client(credentials= credentials,project=ProjectID)\n",
    "query_job = client.query(query, job_config=job_config)\n",
    "\n",
    "#Get latest feed for testing\n",
    "src=DSDataSource.GetLatest(FileType)\n",
    "print(src.TargetTable)\n",
    "\n",
    "\n",
    "\n"
   ]
  },
  {
   "cell_type": "code",
   "execution_count": 34,
   "metadata": {},
   "outputs": [
    {
     "name": "stdout",
     "output_type": "stream",
     "text": [
      "epoch 99, loss nan\n",
      "epoch 199, loss nan\n",
      "epoch 299, loss nan\n",
      "epoch 399, loss nan\n",
      "epoch 499, loss nan\n"
     ]
    }
   ],
   "source": [
    "import torch\n",
    "from torch.autograd import Variable\n",
    "\n",
    "# x_data = Variable(torch.Tensor([[1.0], [2.0], [3.0]]))\n",
    "# y_data = Variable(torch.Tensor([[2.0], [4.0], [6.0]]))\n",
    "\n",
    "x_data=[]\n",
    "y_data=[]\n",
    "for i in range(100):\n",
    "    x_data.append([i])\n",
    "    y_data.append([i*4])\n",
    "\n",
    "#Split into test and training sets\n",
    "x_train=x_data[0:80]\n",
    "y_train=y_data[0:80]\n",
    "x_test=x_data[80:100]\n",
    "y_test=y_data[80:100]\n",
    "\n",
    "#Convert to tensors\n",
    "x_train = Variable(torch.Tensor(x_train))\n",
    "y_traindata = Variable(torch.Tensor(y_train))\n",
    "x_testdata=Variable(torch.Tensor(x_test))\n",
    "y_testdata=Variable(torch.Tensor(y_test))\n",
    "\n",
    "class LinearRegressionModel(torch.nn.Module):\n",
    "\n",
    "\tdef __init__(self):\n",
    "\t\tsuper(LinearRegressionModel, self).__init__()\n",
    "\t\tself.linear = torch.nn.Linear(1, 1) # One in and one out\n",
    "\n",
    "\tdef forward(self, x):\n",
    "\t\ty_pred = self.linear(x)\n",
    "\t\treturn y_pred\n",
    "\n",
    "# our model\n",
    "our_model = LinearRegressionModel()\n",
    "\n",
    "criterion = torch.nn.MSELoss(size_average = False)\n",
    "optimizer = torch.optim.SGD(our_model.parameters(), lr = 0.01)\n",
    "\n",
    "training_loss=[]\n",
    "validation_loss=[]\n",
    "\n",
    "for epoch in range(500):\n",
    "\n",
    "    # Forward pass: Compute predicted y by passing\n",
    "    # x to the model\n",
    "    pred_y = our_model(x_train)\n",
    "\n",
    "    # Compute and print loss\n",
    "    loss = criterion(pred_y, y_traindata)\n",
    "    training_loss.append(loss.item())\n",
    "\n",
    "    # Zero gradients, perform a backward pass,\n",
    "    # and update the weights.\n",
    "    optimizer.zero_grad()\n",
    "    loss.backward()\n",
    "    optimizer.step()\n",
    "    if epoch % 100 == 99:\n",
    "        print('epoch {}, loss {}'.format(epoch, loss.item()))\n",
    "\n",
    "    #Perform validation pass\n",
    "    pred_y = our_model(x_testdata)\n",
    "    loss = criterion(pred_y, y_testdata)\n",
    "    validation_loss.append(loss.item())\n",
    "\n"
   ]
  },
  {
   "cell_type": "code",
   "execution_count": 35,
   "metadata": {},
   "outputs": [
    {
     "name": "stdout",
     "output_type": "stream",
     "text": [
      "predict (after training) 4 nan\n"
     ]
    }
   ],
   "source": [
    "new_var = Variable(torch.Tensor([[4.0]]))\n",
    "pred_y = our_model(new_var)\n",
    "print(\"predict (after training)\", 4, our_model(new_var).item())\n"
   ]
  },
  {
   "cell_type": "code",
   "execution_count": 39,
   "metadata": {},
   "outputs": [
    {
     "data": {
      "image/png": "[encoded data removed]",
      "text/plain": [
       "<Figure size 432x288 with 1 Axes>"
      ]
     },
     "metadata": {
      "needs_background": "light"
     },
     "output_type": "display_data"
    }
   ],
   "source": [
    "#Plot training loss and validation lostt\n",
    "import matplotlib.pyplot as plt\n",
    "#set x axis\n",
    "x = np.arange(0, 500, 1)\n",
    "plt.plot(x,training_loss)\n",
    "\n",
    "#set labels\n",
    "plt.xlabel('Epoch')\n",
    "plt.ylabel('Loss')\n",
    "\n",
    "\n",
    "#plt.plot(training_loss)\n",
    "#plt.plot(validation_loss)\n",
    "plt.show()\n",
    "\n"
   ]
  }
 ],
 "metadata": {
  "kernelspec": {
   "display_name": "pyTorchCUDA",
   "language": "python",
   "name": "python3"
  },
  "language_info": {
   "codemirror_mode": {
    "name": "ipython",
    "version": 3
   },
   "file_extension": ".py",
   "mimetype": "text/x-python",
   "name": "python",
   "nbconvert_exporter": "python",
   "pygments_lexer": "ipython3",
   "version": "3.9.12"
  },
  "orig_nbformat": 4,
  "vscode": {
   "interpreter": {
    "hash": "4def5b9f567fabe9708771a899b5a4539479a947b9e0e619f0a1f00b6e0832e2"
   }
  }
 },
 "nbformat": 4,
 "nbformat_minor": 2
}
