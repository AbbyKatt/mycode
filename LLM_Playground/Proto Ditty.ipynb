{
 "cells": [
  {
   "cell_type": "code",
   "execution_count": 16,
   "metadata": {},
   "outputs": [
    {
     "data": {
      "text/plain": [
       "{'error': 'Model google/flan-t5-large is currently loading',\n",
       " 'estimated_time': 20.0}"
      ]
     },
     "execution_count": 16,
     "metadata": {},
     "output_type": "execute_result"
    }
   ],
   "source": [
    "import requests\n",
    "\n",
    "API_URL = \"https://api-inference.huggingface.co/models/google/flan-t5-large\"\n",
    "headers = {\"Authorization\": \"Bearer hf_jcbd VqGf mHHV YHzw IvgF ejEm LIbw bZPF SG\"}\n",
    "\n",
    "def query(payload):\n",
    "\tresponse = requests.post(API_URL, headers=headers, json=payload)\n",
    "\treturn response.json()\n",
    "\t\n",
    "output = query({\n",
    "\t\"inputs\": \"\"\"You are a regulatory AI chatbot talking to a human analyst. \n",
    "        You will try to help the user any way you can. If you do not know an answer use the following tools:\n",
    "        You have the following tools at your disposal:\n",
    "        Calculator - a tool for performing calculations\n",
    "        Field Lookup Tool - A tool that lets you look up any ETL field in the database and explain it\n",
    "        Cat Generator - a tool for generating cat memes\n",
    "\t\n",
    "\t\n",
    "\tWhat tool do you use?\n",
    "\t\n",
    "\tUser: What fields give me PD for Insurance?\n",
    "\tAI:\n",
    "\t\n",
    "\t\"\"\"\n",
    "})\n",
    "output"
   ]
  }
 ],
 "metadata": {
  "kernelspec": {
   "display_name": "pyTorchCUDA",
   "language": "python",
   "name": "python3"
  },
  "language_info": {
   "codemirror_mode": {
    "name": "ipython",
    "version": 3
   },
   "file_extension": ".py",
   "mimetype": "text/x-python",
   "name": "python",
   "nbconvert_exporter": "python",
   "pygments_lexer": "ipython3",
   "version": "3.9.12"
  },
  "orig_nbformat": 4
 },
 "nbformat": 4,
 "nbformat_minor": 2
}
