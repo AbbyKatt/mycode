{
 "cells": [
  {
   "cell_type": "code",
   "execution_count": 1,
   "metadata": {},
   "outputs": [],
   "source": [
    "#Adjustment Linkages trainer\n",
    "#Multi label classification - works out which fields an adjustment affects\n"
   ]
  },
  {
   "cell_type": "code",
   "execution_count": 2,
   "metadata": {},
   "outputs": [
    {
     "data": {
      "text/html": [
       "<div>\n",
       "<style scoped>\n",
       "    .dataframe tbody tr th:only-of-type {\n",
       "        vertical-align: middle;\n",
       "    }\n",
       "\n",
       "    .dataframe tbody tr th {\n",
       "        vertical-align: top;\n",
       "    }\n",
       "\n",
       "    .dataframe thead th {\n",
       "        text-align: right;\n",
       "    }\n",
       "</style>\n",
       "<table border=\"1\" class=\"dataframe\">\n",
       "  <thead>\n",
       "    <tr style=\"text-align: right;\">\n",
       "      <th></th>\n",
       "      <th>AdjustmentName</th>\n",
       "      <th>CustomerID</th>\n",
       "      <th>CustomerType</th>\n",
       "      <th>AccountType</th>\n",
       "      <th>Approach</th>\n",
       "      <th>RiskCategory</th>\n",
       "      <th>SubDivision</th>\n",
       "      <th>IsDefaulted</th>\n",
       "      <th>CountryCode</th>\n",
       "      <th>Drawn</th>\n",
       "      <th>Undrawn</th>\n",
       "      <th>PD</th>\n",
       "    </tr>\n",
       "  </thead>\n",
       "  <tbody>\n",
       "    <tr>\n",
       "      <th>0</th>\n",
       "      <td>German Retail Downturn</td>\n",
       "      <td>0</td>\n",
       "      <td>0</td>\n",
       "      <td>0</td>\n",
       "      <td>0</td>\n",
       "      <td>1</td>\n",
       "      <td>0</td>\n",
       "      <td>0</td>\n",
       "      <td>0</td>\n",
       "      <td>0</td>\n",
       "      <td>0</td>\n",
       "      <td>0</td>\n",
       "    </tr>\n",
       "    <tr>\n",
       "      <th>1</th>\n",
       "      <td>BREXIT_DEFAULTED</td>\n",
       "      <td>0</td>\n",
       "      <td>0</td>\n",
       "      <td>0</td>\n",
       "      <td>0</td>\n",
       "      <td>1</td>\n",
       "      <td>0</td>\n",
       "      <td>0</td>\n",
       "      <td>0</td>\n",
       "      <td>0</td>\n",
       "      <td>0</td>\n",
       "      <td>0</td>\n",
       "    </tr>\n",
       "    <tr>\n",
       "      <th>2</th>\n",
       "      <td>BREXIT</td>\n",
       "      <td>0</td>\n",
       "      <td>0</td>\n",
       "      <td>0</td>\n",
       "      <td>0</td>\n",
       "      <td>1</td>\n",
       "      <td>0</td>\n",
       "      <td>0</td>\n",
       "      <td>0</td>\n",
       "      <td>0</td>\n",
       "      <td>0</td>\n",
       "      <td>0</td>\n",
       "    </tr>\n",
       "    <tr>\n",
       "      <th>3</th>\n",
       "      <td>Noise_19b</td>\n",
       "      <td>1</td>\n",
       "      <td>0</td>\n",
       "      <td>0</td>\n",
       "      <td>0</td>\n",
       "      <td>0</td>\n",
       "      <td>0</td>\n",
       "      <td>0</td>\n",
       "      <td>0</td>\n",
       "      <td>0</td>\n",
       "      <td>0</td>\n",
       "      <td>0</td>\n",
       "    </tr>\n",
       "    <tr>\n",
       "      <th>4</th>\n",
       "      <td>Noise_22d</td>\n",
       "      <td>1</td>\n",
       "      <td>0</td>\n",
       "      <td>0</td>\n",
       "      <td>0</td>\n",
       "      <td>0</td>\n",
       "      <td>0</td>\n",
       "      <td>0</td>\n",
       "      <td>0</td>\n",
       "      <td>0</td>\n",
       "      <td>0</td>\n",
       "      <td>0</td>\n",
       "    </tr>\n",
       "    <tr>\n",
       "      <th>...</th>\n",
       "      <td>...</td>\n",
       "      <td>...</td>\n",
       "      <td>...</td>\n",
       "      <td>...</td>\n",
       "      <td>...</td>\n",
       "      <td>...</td>\n",
       "      <td>...</td>\n",
       "      <td>...</td>\n",
       "      <td>...</td>\n",
       "      <td>...</td>\n",
       "      <td>...</td>\n",
       "      <td>...</td>\n",
       "    </tr>\n",
       "    <tr>\n",
       "      <th>19995</th>\n",
       "      <td>Defaulting Cleanup</td>\n",
       "      <td>0</td>\n",
       "      <td>1</td>\n",
       "      <td>0</td>\n",
       "      <td>0</td>\n",
       "      <td>0</td>\n",
       "      <td>0</td>\n",
       "      <td>0</td>\n",
       "      <td>0</td>\n",
       "      <td>0</td>\n",
       "      <td>0</td>\n",
       "      <td>0</td>\n",
       "    </tr>\n",
       "    <tr>\n",
       "      <th>19996</th>\n",
       "      <td>BREXIT_DEFAULTED</td>\n",
       "      <td>0</td>\n",
       "      <td>0</td>\n",
       "      <td>0</td>\n",
       "      <td>0</td>\n",
       "      <td>1</td>\n",
       "      <td>0</td>\n",
       "      <td>0</td>\n",
       "      <td>0</td>\n",
       "      <td>0</td>\n",
       "      <td>0</td>\n",
       "      <td>0</td>\n",
       "    </tr>\n",
       "    <tr>\n",
       "      <th>19997</th>\n",
       "      <td>Noise_22d</td>\n",
       "      <td>0</td>\n",
       "      <td>0</td>\n",
       "      <td>0</td>\n",
       "      <td>0</td>\n",
       "      <td>0</td>\n",
       "      <td>0</td>\n",
       "      <td>0</td>\n",
       "      <td>1</td>\n",
       "      <td>0</td>\n",
       "      <td>0</td>\n",
       "      <td>0</td>\n",
       "    </tr>\n",
       "    <tr>\n",
       "      <th>19998</th>\n",
       "      <td>Noise_6f</td>\n",
       "      <td>0</td>\n",
       "      <td>0</td>\n",
       "      <td>0</td>\n",
       "      <td>1</td>\n",
       "      <td>0</td>\n",
       "      <td>0</td>\n",
       "      <td>0</td>\n",
       "      <td>0</td>\n",
       "      <td>0</td>\n",
       "      <td>0</td>\n",
       "      <td>0</td>\n",
       "    </tr>\n",
       "    <tr>\n",
       "      <th>19999</th>\n",
       "      <td>BREXIT_DEFAULTED</td>\n",
       "      <td>0</td>\n",
       "      <td>0</td>\n",
       "      <td>0</td>\n",
       "      <td>0</td>\n",
       "      <td>1</td>\n",
       "      <td>0</td>\n",
       "      <td>0</td>\n",
       "      <td>0</td>\n",
       "      <td>0</td>\n",
       "      <td>0</td>\n",
       "      <td>0</td>\n",
       "    </tr>\n",
       "  </tbody>\n",
       "</table>\n",
       "<p>20000 rows × 12 columns</p>\n",
       "</div>"
      ],
      "text/plain": [
       "               AdjustmentName  CustomerID  CustomerType  AccountType  \\\n",
       "0      German Retail Downturn           0             0            0   \n",
       "1            BREXIT_DEFAULTED           0             0            0   \n",
       "2                      BREXIT           0             0            0   \n",
       "3                   Noise_19b           1             0            0   \n",
       "4                   Noise_22d           1             0            0   \n",
       "...                       ...         ...           ...          ...   \n",
       "19995      Defaulting Cleanup           0             1            0   \n",
       "19996        BREXIT_DEFAULTED           0             0            0   \n",
       "19997               Noise_22d           0             0            0   \n",
       "19998                Noise_6f           0             0            0   \n",
       "19999        BREXIT_DEFAULTED           0             0            0   \n",
       "\n",
       "       Approach  RiskCategory  SubDivision  IsDefaulted  CountryCode  Drawn  \\\n",
       "0             0             1            0            0            0      0   \n",
       "1             0             1            0            0            0      0   \n",
       "2             0             1            0            0            0      0   \n",
       "3             0             0            0            0            0      0   \n",
       "4             0             0            0            0            0      0   \n",
       "...         ...           ...          ...          ...          ...    ...   \n",
       "19995         0             0            0            0            0      0   \n",
       "19996         0             1            0            0            0      0   \n",
       "19997         0             0            0            0            1      0   \n",
       "19998         1             0            0            0            0      0   \n",
       "19999         0             1            0            0            0      0   \n",
       "\n",
       "       Undrawn  PD  \n",
       "0            0   0  \n",
       "1            0   0  \n",
       "2            0   0  \n",
       "3            0   0  \n",
       "4            0   0  \n",
       "...        ...  ..  \n",
       "19995        0   0  \n",
       "19996        0   0  \n",
       "19997        0   0  \n",
       "19998        0   0  \n",
       "19999        0   0  \n",
       "\n",
       "[20000 rows x 12 columns]"
      ]
     },
     "execution_count": 2,
     "metadata": {},
     "output_type": "execute_result"
    }
   ],
   "source": [
    "#Read the Adjustment mask into a dataframe\n",
    "import pandas as pd\n",
    "df=pd.read_csv('AdjustmentMask.csv')\n",
    "df"
   ]
  },
  {
   "cell_type": "code",
   "execution_count": 20,
   "metadata": {},
   "outputs": [
    {
     "data": {
      "text/plain": [
       "{0: 'CustomerID',\n",
       " 1: 'CustomerType',\n",
       " 2: 'AccountType',\n",
       " 3: 'Approach',\n",
       " 4: 'RiskCategory',\n",
       " 5: 'SubDivision',\n",
       " 6: 'IsDefaulted',\n",
       " 7: 'CountryCode',\n",
       " 8: 'Drawn',\n",
       " 9: 'Undrawn'}"
      ]
     },
     "execution_count": 20,
     "metadata": {},
     "output_type": "execute_result"
    }
   ],
   "source": [
    "#Onehot encode the AdjustmentName\n",
    "#Get first column as dataframe\n",
    "X=df.iloc[:,0]\n",
    "y=df.iloc[:,1:-1]\n",
    "\n",
    "#Get dummy variables for the AdjustmentName\n",
    "X=pd.get_dummies(X)\n",
    "y\n",
    "\n",
    "#Create a dictionary of X column names (The \"Query\")\n",
    "XDict=X.columns.to_list()\n",
    "QueryDict={}\n",
    "for i in range(len(XDict)):\n",
    "    QueryDict[XDict[i]]=i\n",
    "\n",
    "\n",
    "#Create a dictionary of y column names (The \"Labels\")\n",
    "yDict=y.columns.to_list()\n",
    "LabelsDict={}\n",
    "for i in range(len(yDict)):\n",
    "    LabelsDict[i]=yDict[i]\n"
   ]
  },
  {
   "cell_type": "code",
   "execution_count": 4,
   "metadata": {},
   "outputs": [],
   "source": [
    "#Split the test and training data\n",
    "from sklearn.model_selection import train_test_split\n",
    "X_train,X_test,y_train,y_test=train_test_split(X,y,test_size=0.2)\n"
   ]
  },
  {
   "cell_type": "code",
   "execution_count": 5,
   "metadata": {},
   "outputs": [
    {
     "name": "stderr",
     "output_type": "stream",
     "text": [
      "C:\\Users\\simon\\AppData\\Local\\Temp\\ipykernel_28960\\2428177920.py:31: DeprecationWarning: KerasClassifier is deprecated, use Sci-Keras (https://github.com/adriangb/scikeras) instead. See https://www.adriangb.com/scikeras/stable/migration.html for help migrating.\n",
      "  model = KerasClassifier(build_fn=CreateModel, verbose=0)\n"
     ]
    }
   ],
   "source": [
    "#Build model parameterized so we can do a grid-search on hyperparameters\n",
    "from keras.wrappers.scikit_learn import KerasClassifier\n",
    "import tensorflow as tf\n",
    "\n",
    "def CreateModel(neurons=50, dropout=0.2,layers=3):\n",
    "\n",
    "    #------------------PARAMETERS------------------\n",
    "    num_classes=len(y.columns)\n",
    "    #totalepochs=80\n",
    "\n",
    "    #Simple feed-forward model. No U-nets or anything fancy\n",
    "    ann = tf.keras.models.Sequential()\n",
    "\n",
    "    #Variable number of layers\n",
    "    for i in range(layers):\n",
    "        ann.add(tf.keras.layers.Dense(units=neurons, activation='relu'))\n",
    "        ann.add(tf.keras.layers.Dropout(dropout))\n",
    "    \n",
    "    ann.add(tf.keras.layers.Dense(units=num_classes, activation='sigmoid'))\n",
    "\n",
    "    # ann.add(tf.keras.layers.Flatten())\n",
    "    # ann.add(tf.keras.layers.Dense(num_classes, activation='softmax'))\n",
    "\n",
    "\n",
    "    #Compile!\n",
    "    ann.compile(optimizer = 'adam', loss = 'binary_crossentropy', metrics = ['accuracy'])\n",
    "    ann.build(input_shape=(None, X_train.shape[1]))\n",
    "    #ann.summary()\n",
    "    return ann\n",
    "\n",
    "model = KerasClassifier(build_fn=CreateModel, verbose=0)\n",
    "\n",
    "param_grid = {\n",
    "    'epochs': [1,2,4,8,16],\n",
    "    'neurons': [50, 100, 200],\n",
    "    \"dropout\":[0.05,0.1,0.2,0.4],\n",
    "    \"layers\":[1,2,4]\n",
    "}"
   ]
  },
  {
   "cell_type": "code",
   "execution_count": 6,
   "metadata": {},
   "outputs": [
    {
     "name": "stdout",
     "output_type": "stream",
     "text": [
      "Epoch 1/4\n",
      "500/500 [==============================] - 1s 859us/step - loss: 0.1328 - accuracy: 0.5594\n",
      "Epoch 2/4\n",
      "500/500 [==============================] - 0s 873us/step - loss: 0.0810 - accuracy: 0.5996\n",
      "Epoch 3/4\n",
      "500/500 [==============================] - 0s 832us/step - loss: 0.0795 - accuracy: 0.6088\n",
      "Epoch 4/4\n",
      "500/500 [==============================] - 0s 876us/step - loss: 0.0788 - accuracy: 0.6029\n"
     ]
    },
    {
     "data": {
      "text/plain": [
       "<keras.callbacks.History at 0x2793e491820>"
      ]
     },
     "execution_count": 6,
     "metadata": {},
     "output_type": "execute_result"
    }
   ],
   "source": [
    "#Basic train model\n",
    "model=CreateModel(neurons=100, dropout=0.4,layers=4)\n",
    "model.fit(X_train, y_train, batch_size = 32, epochs = 4)\n",
    "\n",
    "# from sklearn.model_selection import GridSearchCV\n",
    "# grid = GridSearchCV(estimator=model, param_grid=param_grid, n_jobs=-1, cv=3)\n",
    "# grid_result = grid.fit(X_train, y_train)\n",
    "# print(\"Best score: %f using %s\" % (grid_result.best_score_, grid_result.best_params_))\n"
   ]
  },
  {
   "cell_type": "code",
   "execution_count": 7,
   "metadata": {},
   "outputs": [
    {
     "data": {
      "image/png": "[encoded data removed]",
      "text/plain": [
       "<Figure size 432x288 with 1 Axes>"
      ]
     },
     "metadata": {
      "needs_background": "light"
     },
     "output_type": "display_data"
    }
   ],
   "source": [
    "#Plot the loss and accuracy\n",
    "import matplotlib.pyplot as plt\n",
    "\n",
    "plt.plot(model.history.history['loss'])\n",
    "plt.plot(model.history.history['accuracy'])\n",
    "plt.title('Model loss')\n",
    "plt.ylabel('Loss')\n",
    "plt.xlabel('Epoch')\n",
    "plt.legend(['Loss', 'Accuracy'], loc='upper left')\n",
    "plt.show()\n",
    "\n"
   ]
  },
  {
   "cell_type": "code",
   "execution_count": 8,
   "metadata": {},
   "outputs": [
    {
     "name": "stdout",
     "output_type": "stream",
     "text": [
      "125/125 [==============================] - 0s 529us/step\n"
     ]
    },
    {
     "data": {
      "text/plain": [
       "0.75"
      ]
     },
     "execution_count": 8,
     "metadata": {},
     "output_type": "execute_result"
    }
   ],
   "source": [
    "#Validate the model against the test set\n",
    "y_pred = model.predict(X_test)\n",
    "y_pred = (y_pred > 0.5)\n",
    "\n",
    "#Get the accuracy\n",
    "from sklearn.metrics import accuracy_score\n",
    "accuracy_score(y_test, y_pred)"
   ]
  },
  {
   "cell_type": "code",
   "execution_count": null,
   "metadata": {},
   "outputs": [],
   "source": []
  },
  {
   "cell_type": "code",
   "execution_count": 21,
   "metadata": {},
   "outputs": [],
   "source": [
    "#Save model\n",
    "model.save('Models/AdjustmentLinkages/model.h5')\n",
    "\n",
    "#Save QueryDict as json\n",
    "import json\n",
    "with open('Models/AdjustmentLinkages/Query.json', 'w') as fp:\n",
    "    json.dump(QueryDict, fp)\n",
    "\n",
    "#Save LabelsDict as json\n",
    "with open('Models/AdjustmentLinkages/softmaxlkp.json', 'w') as fp:\n",
    "    json.dump(LabelsDict, fp)\n"
   ]
  }
 ],
 "metadata": {
  "kernelspec": {
   "display_name": "pyTorchCUDA",
   "language": "python",
   "name": "python3"
  },
  "language_info": {
   "codemirror_mode": {
    "name": "ipython",
    "version": 3
   },
   "file_extension": ".py",
   "mimetype": "text/x-python",
   "name": "python",
   "nbconvert_exporter": "python",
   "pygments_lexer": "ipython3",
   "version": "3.9.12"
  },
  "orig_nbformat": 4
 },
 "nbformat": 4,
 "nbformat_minor": 2
}
