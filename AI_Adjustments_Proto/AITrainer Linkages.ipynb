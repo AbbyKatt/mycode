{
 "cells": [
  {
   "cell_type": "code",
   "execution_count": 1,
   "metadata": {},
   "outputs": [],
   "source": [
    "#Adjustment Linkages trainer\n",
    "#Multi label classification - works out which fields an adjustment affects\n"
   ]
  },
  {
   "cell_type": "code",
   "execution_count": 1,
   "metadata": {},
   "outputs": [
    {
     "data": {
      "text/html": [
       "<div>\n",
       "<style scoped>\n",
       "    .dataframe tbody tr th:only-of-type {\n",
       "        vertical-align: middle;\n",
       "    }\n",
       "\n",
       "    .dataframe tbody tr th {\n",
       "        vertical-align: top;\n",
       "    }\n",
       "\n",
       "    .dataframe thead th {\n",
       "        text-align: right;\n",
       "    }\n",
       "</style>\n",
       "<table border=\"1\" class=\"dataframe\">\n",
       "  <thead>\n",
       "    <tr style=\"text-align: right;\">\n",
       "      <th></th>\n",
       "      <th>AdjustmentName</th>\n",
       "      <th>CustomerID</th>\n",
       "      <th>CustomerType</th>\n",
       "      <th>AccountType</th>\n",
       "      <th>Approach</th>\n",
       "      <th>RiskCategory</th>\n",
       "      <th>SubDivision</th>\n",
       "      <th>IsDefaulted</th>\n",
       "      <th>CountryCode</th>\n",
       "      <th>Drawn</th>\n",
       "      <th>Undrawn</th>\n",
       "      <th>PD</th>\n",
       "    </tr>\n",
       "  </thead>\n",
       "  <tbody>\n",
       "    <tr>\n",
       "      <th>0</th>\n",
       "      <td>US STD downgrade</td>\n",
       "      <td>0</td>\n",
       "      <td>1</td>\n",
       "      <td>0</td>\n",
       "      <td>0</td>\n",
       "      <td>0</td>\n",
       "      <td>0</td>\n",
       "      <td>0</td>\n",
       "      <td>0</td>\n",
       "      <td>0</td>\n",
       "      <td>0</td>\n",
       "      <td>0</td>\n",
       "    </tr>\n",
       "    <tr>\n",
       "      <th>1</th>\n",
       "      <td>Defaulting Cleanup</td>\n",
       "      <td>0</td>\n",
       "      <td>1</td>\n",
       "      <td>0</td>\n",
       "      <td>0</td>\n",
       "      <td>0</td>\n",
       "      <td>0</td>\n",
       "      <td>1</td>\n",
       "      <td>0</td>\n",
       "      <td>0</td>\n",
       "      <td>0</td>\n",
       "      <td>0</td>\n",
       "    </tr>\n",
       "    <tr>\n",
       "      <th>2</th>\n",
       "      <td>Market Downturn</td>\n",
       "      <td>0</td>\n",
       "      <td>0</td>\n",
       "      <td>0</td>\n",
       "      <td>0</td>\n",
       "      <td>0</td>\n",
       "      <td>0</td>\n",
       "      <td>0</td>\n",
       "      <td>0</td>\n",
       "      <td>1</td>\n",
       "      <td>0</td>\n",
       "      <td>0</td>\n",
       "    </tr>\n",
       "    <tr>\n",
       "      <th>3</th>\n",
       "      <td>German Retail Downturn</td>\n",
       "      <td>0</td>\n",
       "      <td>0</td>\n",
       "      <td>0</td>\n",
       "      <td>0</td>\n",
       "      <td>0</td>\n",
       "      <td>0</td>\n",
       "      <td>1</td>\n",
       "      <td>0</td>\n",
       "      <td>1</td>\n",
       "      <td>0</td>\n",
       "      <td>0</td>\n",
       "    </tr>\n",
       "    <tr>\n",
       "      <th>4</th>\n",
       "      <td>BREXIT_DEFAULTED</td>\n",
       "      <td>0</td>\n",
       "      <td>0</td>\n",
       "      <td>0</td>\n",
       "      <td>0</td>\n",
       "      <td>0</td>\n",
       "      <td>1</td>\n",
       "      <td>0</td>\n",
       "      <td>0</td>\n",
       "      <td>0</td>\n",
       "      <td>0</td>\n",
       "      <td>0</td>\n",
       "    </tr>\n",
       "    <tr>\n",
       "      <th>...</th>\n",
       "      <td>...</td>\n",
       "      <td>...</td>\n",
       "      <td>...</td>\n",
       "      <td>...</td>\n",
       "      <td>...</td>\n",
       "      <td>...</td>\n",
       "      <td>...</td>\n",
       "      <td>...</td>\n",
       "      <td>...</td>\n",
       "      <td>...</td>\n",
       "      <td>...</td>\n",
       "      <td>...</td>\n",
       "    </tr>\n",
       "    <tr>\n",
       "      <th>14852</th>\n",
       "      <td>US STD downgrade</td>\n",
       "      <td>0</td>\n",
       "      <td>1</td>\n",
       "      <td>0</td>\n",
       "      <td>0</td>\n",
       "      <td>0</td>\n",
       "      <td>0</td>\n",
       "      <td>0</td>\n",
       "      <td>0</td>\n",
       "      <td>0</td>\n",
       "      <td>0</td>\n",
       "      <td>0</td>\n",
       "    </tr>\n",
       "    <tr>\n",
       "      <th>14853</th>\n",
       "      <td>Defaulting Cleanup</td>\n",
       "      <td>0</td>\n",
       "      <td>1</td>\n",
       "      <td>0</td>\n",
       "      <td>0</td>\n",
       "      <td>0</td>\n",
       "      <td>0</td>\n",
       "      <td>1</td>\n",
       "      <td>0</td>\n",
       "      <td>0</td>\n",
       "      <td>0</td>\n",
       "      <td>0</td>\n",
       "    </tr>\n",
       "    <tr>\n",
       "      <th>14854</th>\n",
       "      <td>BREXIT</td>\n",
       "      <td>0</td>\n",
       "      <td>0</td>\n",
       "      <td>1</td>\n",
       "      <td>0</td>\n",
       "      <td>0</td>\n",
       "      <td>1</td>\n",
       "      <td>0</td>\n",
       "      <td>1</td>\n",
       "      <td>0</td>\n",
       "      <td>0</td>\n",
       "      <td>0</td>\n",
       "    </tr>\n",
       "    <tr>\n",
       "      <th>14855</th>\n",
       "      <td>BREXIT_DEFAULTED</td>\n",
       "      <td>0</td>\n",
       "      <td>0</td>\n",
       "      <td>0</td>\n",
       "      <td>0</td>\n",
       "      <td>0</td>\n",
       "      <td>1</td>\n",
       "      <td>0</td>\n",
       "      <td>0</td>\n",
       "      <td>0</td>\n",
       "      <td>0</td>\n",
       "      <td>0</td>\n",
       "    </tr>\n",
       "    <tr>\n",
       "      <th>14856</th>\n",
       "      <td>US STD downgrade</td>\n",
       "      <td>0</td>\n",
       "      <td>1</td>\n",
       "      <td>0</td>\n",
       "      <td>0</td>\n",
       "      <td>0</td>\n",
       "      <td>0</td>\n",
       "      <td>0</td>\n",
       "      <td>0</td>\n",
       "      <td>0</td>\n",
       "      <td>0</td>\n",
       "      <td>0</td>\n",
       "    </tr>\n",
       "  </tbody>\n",
       "</table>\n",
       "<p>14857 rows × 12 columns</p>\n",
       "</div>"
      ],
      "text/plain": [
       "               AdjustmentName  CustomerID  CustomerType  AccountType  \\\n",
       "0            US STD downgrade           0             1            0   \n",
       "1          Defaulting Cleanup           0             1            0   \n",
       "2             Market Downturn           0             0            0   \n",
       "3      German Retail Downturn           0             0            0   \n",
       "4            BREXIT_DEFAULTED           0             0            0   \n",
       "...                       ...         ...           ...          ...   \n",
       "14852        US STD downgrade           0             1            0   \n",
       "14853      Defaulting Cleanup           0             1            0   \n",
       "14854                  BREXIT           0             0            1   \n",
       "14855        BREXIT_DEFAULTED           0             0            0   \n",
       "14856        US STD downgrade           0             1            0   \n",
       "\n",
       "       Approach  RiskCategory  SubDivision  IsDefaulted  CountryCode  Drawn  \\\n",
       "0             0             0            0            0            0      0   \n",
       "1             0             0            0            1            0      0   \n",
       "2             0             0            0            0            0      1   \n",
       "3             0             0            0            1            0      1   \n",
       "4             0             0            1            0            0      0   \n",
       "...         ...           ...          ...          ...          ...    ...   \n",
       "14852         0             0            0            0            0      0   \n",
       "14853         0             0            0            1            0      0   \n",
       "14854         0             0            1            0            1      0   \n",
       "14855         0             0            1            0            0      0   \n",
       "14856         0             0            0            0            0      0   \n",
       "\n",
       "       Undrawn  PD  \n",
       "0            0   0  \n",
       "1            0   0  \n",
       "2            0   0  \n",
       "3            0   0  \n",
       "4            0   0  \n",
       "...        ...  ..  \n",
       "14852        0   0  \n",
       "14853        0   0  \n",
       "14854        0   0  \n",
       "14855        0   0  \n",
       "14856        0   0  \n",
       "\n",
       "[14857 rows x 12 columns]"
      ]
     },
     "execution_count": 1,
     "metadata": {},
     "output_type": "execute_result"
    }
   ],
   "source": [
    "#Read the Adjustment mask into a dataframe\n",
    "import pandas as pd\n",
    "df=pd.read_csv('AdjustmentMask.csv')\n",
    "df"
   ]
  },
  {
   "cell_type": "code",
   "execution_count": 2,
   "metadata": {},
   "outputs": [],
   "source": [
    "#Onehot encode the AdjustmentName\n",
    "#Get first column as dataframe\n",
    "X=df.iloc[:,0]\n",
    "y=df.iloc[:,1:-1]\n",
    "\n",
    "#Get dummy variables for the AdjustmentName\n",
    "X=pd.get_dummies(X)\n",
    "y\n",
    "\n",
    "#Create a dictionary of X column names (The \"Query\")\n",
    "XColumns=X.columns.to_list()\n",
    "QueryDict={}\n",
    "for i in range(len(XColumns)):\n",
    "    QueryDict[XColumns[i]]=XColumns[i]\n",
    "\n",
    "\n",
    "#Create a dictionary of y column names (The \"Labels\")\n",
    "yDict=y.columns.to_list()\n",
    "LabelsDict={}\n",
    "for i in range(len(yDict)):\n",
    "    LabelsDict[i]=yDict[i]\n",
    "#QueryDict\n",
    "#XDict\n",
    "#df\n",
    "#X\n",
    "#XColumns\n",
    "#QueryDict\n"
   ]
  },
  {
   "cell_type": "code",
   "execution_count": 3,
   "metadata": {},
   "outputs": [],
   "source": [
    "#Split the test and training data\n",
    "from sklearn.model_selection import train_test_split\n",
    "X_train,X_test,y_train,y_test=train_test_split(X,y,test_size=0.2)\n"
   ]
  },
  {
   "cell_type": "code",
   "execution_count": 4,
   "metadata": {},
   "outputs": [
    {
     "name": "stderr",
     "output_type": "stream",
     "text": [
      "C:\\Users\\simon\\AppData\\Local\\Temp\\ipykernel_14900\\2428177920.py:31: DeprecationWarning: KerasClassifier is deprecated, use Sci-Keras (https://github.com/adriangb/scikeras) instead. See https://www.adriangb.com/scikeras/stable/migration.html for help migrating.\n",
      "  model = KerasClassifier(build_fn=CreateModel, verbose=0)\n"
     ]
    }
   ],
   "source": [
    "#Build model parameterized so we can do a grid-search on hyperparameters\n",
    "from keras.wrappers.scikit_learn import KerasClassifier\n",
    "import tensorflow as tf\n",
    "\n",
    "def CreateModel(neurons=50, dropout=0.2,layers=3):\n",
    "\n",
    "    #------------------PARAMETERS------------------\n",
    "    num_classes=len(y.columns)\n",
    "    #totalepochs=80\n",
    "\n",
    "    #Simple feed-forward model. No U-nets or anything fancy\n",
    "    ann = tf.keras.models.Sequential()\n",
    "\n",
    "    #Variable number of layers\n",
    "    for i in range(layers):\n",
    "        ann.add(tf.keras.layers.Dense(units=neurons, activation='relu'))\n",
    "        ann.add(tf.keras.layers.Dropout(dropout))\n",
    "    \n",
    "    ann.add(tf.keras.layers.Dense(units=num_classes, activation='sigmoid'))\n",
    "\n",
    "    # ann.add(tf.keras.layers.Flatten())\n",
    "    # ann.add(tf.keras.layers.Dense(num_classes, activation='softmax'))\n",
    "\n",
    "\n",
    "    #Compile!\n",
    "    ann.compile(optimizer = 'adam', loss = 'binary_crossentropy', metrics = ['accuracy'])\n",
    "    ann.build(input_shape=(None, X_train.shape[1]))\n",
    "    #ann.summary()\n",
    "    return ann\n",
    "\n",
    "model = KerasClassifier(build_fn=CreateModel, verbose=0)\n",
    "\n",
    "param_grid = {\n",
    "    'epochs': [1,2,4,8,16],\n",
    "    'neurons': [50, 100, 200],\n",
    "    \"dropout\":[0.05,0.1,0.2,0.4],\n",
    "    \"layers\":[1,2,4]\n",
    "}"
   ]
  },
  {
   "cell_type": "code",
   "execution_count": 5,
   "metadata": {},
   "outputs": [
    {
     "name": "stdout",
     "output_type": "stream",
     "text": [
      "Epoch 1/2\n",
      "372/372 [==============================] - 1s 951us/step - loss: 0.1112 - accuracy: 0.5504\n",
      "Epoch 2/2\n",
      "372/372 [==============================] - 0s 936us/step - loss: 0.0021 - accuracy: 0.6841\n"
     ]
    },
    {
     "data": {
      "text/plain": [
       "<keras.callbacks.History at 0x1fbf5e14160>"
      ]
     },
     "execution_count": 5,
     "metadata": {},
     "output_type": "execute_result"
    }
   ],
   "source": [
    "#Basic train model\n",
    "model=CreateModel(neurons=50, dropout=0.1,layers=4)\n",
    "model.fit(X_train, y_train, batch_size = 32, epochs = 2)\n",
    "\n",
    "# from sklearn.model_selection import GridSearchCV\n",
    "# grid = GridSearchCV(estimator=model, param_grid=param_grid, n_jobs=-1, cv=3)\n",
    "# grid_result = grid.fit(X_train, y_train)\n",
    "# print(\"Best score: %f using %s\" % (grid_result.best_score_, grid_result.best_params_))\n"
   ]
  },
  {
   "cell_type": "code",
   "execution_count": 6,
   "metadata": {},
   "outputs": [
    {
     "data": {
      "image/png": "[encoded data removed]",
      "text/plain": [
       "<Figure size 432x288 with 1 Axes>"
      ]
     },
     "metadata": {
      "needs_background": "light"
     },
     "output_type": "display_data"
    }
   ],
   "source": [
    "#Plot the loss and accuracy\n",
    "import matplotlib.pyplot as plt\n",
    "\n",
    "plt.plot(model.history.history['loss'])\n",
    "plt.plot(model.history.history['accuracy'])\n",
    "plt.title('Model loss')\n",
    "plt.ylabel('Loss')\n",
    "plt.xlabel('Epoch')\n",
    "plt.legend(['Loss', 'Accuracy'], loc='upper left')\n",
    "plt.show()\n",
    "\n"
   ]
  },
  {
   "cell_type": "code",
   "execution_count": 7,
   "metadata": {},
   "outputs": [
    {
     "name": "stdout",
     "output_type": "stream",
     "text": [
      "93/93 [==============================] - 0s 496us/step\n"
     ]
    },
    {
     "data": {
      "text/plain": [
       "1.0"
      ]
     },
     "execution_count": 7,
     "metadata": {},
     "output_type": "execute_result"
    }
   ],
   "source": [
    "#Validate the model against the test set\n",
    "y_pred = model.predict(X_test)\n",
    "y_pred = (y_pred > 0.5)\n",
    "\n",
    "#Get the accuracy\n",
    "from sklearn.metrics import accuracy_score\n",
    "accuracy_score(y_test, y_pred)"
   ]
  },
  {
   "cell_type": "code",
   "execution_count": 27,
   "metadata": {},
   "outputs": [
    {
     "name": "stdout",
     "output_type": "stream",
     "text": [
      "1/1 [==============================] - 0s 26ms/step\n",
      "Undrawn\n"
     ]
    }
   ],
   "source": [
    "\n",
    "#Simulate loading JSON\n",
    "adjLinkagesQuery=QueryDict\n",
    "adjLinkagesColumns=XColumns\n",
    "\n",
    "#pick random AdjustmentName\n",
    "adjName=adjLinkagesColumns[6]\n",
    "\n",
    "#Make a dataframe with 1 row all zeros\n",
    "df=pd.DataFrame(0, index=[0], columns=adjLinkagesColumns)\n",
    "\n",
    "#Onehot encode the AdjustmentName\n",
    "if adjName in adjLinkagesQuery:\n",
    "    df[adjName]=1.0\n",
    "else:\n",
    "    print(\"AdjustmentName not found\")\n",
    "\n",
    "#Make a prediction\n",
    "y_pred = model.predict(df)\n",
    "y_pred\n",
    "\n",
    "threshold = 0.5\n",
    "\n",
    "# Get predicted labels\n",
    "prediction=[]\n",
    "predicted_labels = y_pred > threshold\n",
    "for i in range(len(predicted_labels[0])):\n",
    "    if predicted_labels[0][i]:\n",
    "        prediction.append(LabelsDict[i])\n",
    "        print(LabelsDict[i])\n",
    "\n"
   ]
  },
  {
   "cell_type": "code",
   "execution_count": 42,
   "metadata": {},
   "outputs": [],
   "source": [
    "#Save model\n",
    "model.save('Models/AdjustmentLinkages/model.h5')\n",
    "\n",
    "#Save XColums as json\n",
    "import json\n",
    "with open('Models/AdjustmentLinkages/in_Columns.json', 'w') as fp:\n",
    "    json.dump(XColumns, fp)\n",
    "\n",
    "#Save QueryDict as json\n",
    "import json\n",
    "with open('Models/AdjustmentLinkages/Query.json', 'w') as fp:\n",
    "    json.dump(QueryDict, fp)\n",
    "\n",
    "#Save LabelsDict as json\n",
    "with open('Models/AdjustmentLinkages/softmaxlkp.json', 'w') as fp:\n",
    "    json.dump(LabelsDict, fp)\n"
   ]
  },
  {
   "cell_type": "code",
   "execution_count": 21,
   "metadata": {},
   "outputs": [
    {
     "name": "stdout",
     "output_type": "stream",
     "text": [
      "Epoch 1/2\n"
     ]
    },
    {
     "ename": "AttributeError",
     "evalue": "'Function' object has no attribute '_concrete_stateful_fn'",
     "output_type": "error",
     "traceback": [
      "\u001b[1;31m---------------------------------------------------------------------------\u001b[0m",
      "\u001b[1;31mAttributeError\u001b[0m                            Traceback (most recent call last)",
      "\u001b[1;32mc:\\code\\HSBCDataScience\\AI_Adjustments_Proto\\AITrainer Linkages.ipynb Cell 11\u001b[0m in \u001b[0;36m<cell line: 13>\u001b[1;34m()\u001b[0m\n\u001b[0;32m     <a href='vscode-notebook-cell:/c%3A/code/HSBCDataScience/AI_Adjustments_Proto/AITrainer%20Linkages.ipynb#X13sZmlsZQ%3D%3D?line=10'>11</a>\u001b[0m \u001b[39m#plot_model(model, to_file='model.png')\u001b[39;00m\n\u001b[0;32m     <a href='vscode-notebook-cell:/c%3A/code/HSBCDataScience/AI_Adjustments_Proto/AITrainer%20Linkages.ipynb#X13sZmlsZQ%3D%3D?line=11'>12</a>\u001b[0m model\u001b[39m.\u001b[39mcompile(loss\u001b[39m=\u001b[39m\u001b[39m'\u001b[39m\u001b[39mbinary_crossentropy\u001b[39m\u001b[39m'\u001b[39m, optimizer\u001b[39m=\u001b[39m\u001b[39m'\u001b[39m\u001b[39madam\u001b[39m\u001b[39m'\u001b[39m, metrics\u001b[39m=\u001b[39m[\u001b[39m'\u001b[39m\u001b[39maccuracy\u001b[39m\u001b[39m'\u001b[39m])\n\u001b[1;32m---> <a href='vscode-notebook-cell:/c%3A/code/HSBCDataScience/AI_Adjustments_Proto/AITrainer%20Linkages.ipynb#X13sZmlsZQ%3D%3D?line=12'>13</a>\u001b[0m model\u001b[39m.\u001b[39;49mfit(X_train, y_train, batch_size \u001b[39m=\u001b[39;49m \u001b[39m32\u001b[39;49m, epochs \u001b[39m=\u001b[39;49m \u001b[39m2\u001b[39;49m,callbacks\u001b[39m=\u001b[39;49m[tensorboard_callback])\n",
      "File \u001b[1;32mc:\\pythonenvs\\pyTorchCUDA\\lib\\site-packages\\keras\\utils\\traceback_utils.py:70\u001b[0m, in \u001b[0;36mfilter_traceback.<locals>.error_handler\u001b[1;34m(*args, **kwargs)\u001b[0m\n\u001b[0;32m     67\u001b[0m     filtered_tb \u001b[39m=\u001b[39m _process_traceback_frames(e\u001b[39m.\u001b[39m__traceback__)\n\u001b[0;32m     68\u001b[0m     \u001b[39m# To get the full stack trace, call:\u001b[39;00m\n\u001b[0;32m     69\u001b[0m     \u001b[39m# `tf.debugging.disable_traceback_filtering()`\u001b[39;00m\n\u001b[1;32m---> 70\u001b[0m     \u001b[39mraise\u001b[39;00m e\u001b[39m.\u001b[39mwith_traceback(filtered_tb) \u001b[39mfrom\u001b[39;00m \u001b[39mNone\u001b[39m\n\u001b[0;32m     71\u001b[0m \u001b[39mfinally\u001b[39;00m:\n\u001b[0;32m     72\u001b[0m     \u001b[39mdel\u001b[39;00m filtered_tb\n",
      "File \u001b[1;32mc:\\pythonenvs\\pyTorchCUDA\\lib\\site-packages\\tensorflow\\python\\keras\\callbacks.py:2272\u001b[0m, in \u001b[0;36mTensorBoard._write_keras_model_train_graph\u001b[1;34m(self)\u001b[0m\n\u001b[0;32m   2270\u001b[0m \u001b[39m# If the train_function is a `tf.function`, we can write out a graph\u001b[39;00m\n\u001b[0;32m   2271\u001b[0m \u001b[39mif\u001b[39;00m \u001b[39mhasattr\u001b[39m(train_fn, \u001b[39m'\u001b[39m\u001b[39mfunction_spec\u001b[39m\u001b[39m'\u001b[39m):\n\u001b[1;32m-> 2272\u001b[0m   summary_ops_v2\u001b[39m.\u001b[39mgraph(train_fn\u001b[39m.\u001b[39m_concrete_stateful_fn\u001b[39m.\u001b[39mgraph)\n",
      "\u001b[1;31mAttributeError\u001b[0m: 'Function' object has no attribute '_concrete_stateful_fn'"
     ]
    }
   ],
   "source": [
    "# %load_ext tensorboard   \n",
    "# %tensorboard --logdir logs/fit\n",
    "\n",
    "from tensorflow.python import keras\n",
    "from tensorflow.python.keras.callbacks import TensorBoard\n",
    "#from tensorflow.keras.utils import utils\n",
    "log_dir = 'C:\\code\\HSBCDataScience\\AI_Adjustments_Proto\\logs'\n",
    "tensorboard_callback = TensorBoard(log_dir=log_dir, histogram_freq=1)\n",
    "\n",
    "model=CreateModel(neurons=50, dropout=0.1,layers=4)\n",
    "#plot_model(model, to_file='model.png')\n",
    "model.compile(loss='binary_crossentropy', optimizer='adam', metrics=['accuracy'])\n",
    "model.fit(X_train, y_train, batch_size = 32, epochs = 2,callbacks=[tensorboard_callback])\n",
    "\n",
    "\n"
   ]
  },
  {
   "cell_type": "code",
   "execution_count": null,
   "metadata": {},
   "outputs": [],
   "source": [
    "%tensorboard --logdir C:/code/HSBCDataScience/AI_Adjustments_Proto/logs/train"
   ]
  }
 ],
 "metadata": {
  "kernelspec": {
   "display_name": "pyTorchCUDA",
   "language": "python",
   "name": "python3"
  },
  "language_info": {
   "codemirror_mode": {
    "name": "ipython",
    "version": 3
   },
   "file_extension": ".py",
   "mimetype": "text/x-python",
   "name": "python",
   "nbconvert_exporter": "python",
   "pygments_lexer": "ipython3",
   "version": "3.9.12"
  },
  "orig_nbformat": 4
 },
 "nbformat": 4,
 "nbformat_minor": 2
}
